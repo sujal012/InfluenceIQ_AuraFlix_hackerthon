{
 "cells": [
  {
   "cell_type": "markdown",
   "metadata": {},
   "source": [
    "## importing necessary Libraries and dataset"
   ]
  },
  {
   "cell_type": "code",
   "execution_count": 3,
   "metadata": {
    "execution": {
     "iopub.execute_input": "2024-10-08T11:42:59.027256Z",
     "iopub.status.busy": "2024-10-08T11:42:59.026528Z",
     "iopub.status.idle": "2024-10-08T11:43:00.333323Z",
     "shell.execute_reply": "2024-10-08T11:43:00.331877Z",
     "shell.execute_reply.started": "2024-10-08T11:42:59.027185Z"
    },
    "trusted": true
   },
   "outputs": [],
   "source": [
    "import pandas as pd\n",
    "import numpy as np\n",
    "from datetime import datetime\n",
    "from sklearn.preprocessing import StandardScaler, MultiLabelBinarizer\n",
    "from sklearn.metrics.pairwise import cosine_similarity\n",
    "import requests"
   ]
  },
  {
   "cell_type": "code",
   "execution_count": 4,
   "metadata": {
    "execution": {
     "iopub.execute_input": "2024-10-08T11:43:00.336321Z",
     "iopub.status.busy": "2024-10-08T11:43:00.335758Z",
     "iopub.status.idle": "2024-10-08T11:43:00.369837Z",
     "shell.execute_reply": "2024-10-08T11:43:00.368620Z",
     "shell.execute_reply.started": "2024-10-08T11:43:00.336276Z"
    },
    "trusted": true
   },
   "outputs": [],
   "source": [
    "influencer_df=pd.read_csv(\"influencers.csv\") # Content Data"
   ]
  },
  {
   "cell_type": "code",
   "execution_count": 5,
   "metadata": {
    "execution": {
     "iopub.execute_input": "2024-10-08T11:43:00.371538Z",
     "iopub.status.busy": "2024-10-08T11:43:00.371177Z",
     "iopub.status.idle": "2024-10-08T11:43:00.406446Z",
     "shell.execute_reply": "2024-10-08T11:43:00.405257Z",
     "shell.execute_reply.started": "2024-10-08T11:43:00.371499Z"
    },
    "trusted": true
   },
   "outputs": [
    {
     "name": "stdout",
     "output_type": "stream",
     "text": [
      "<class 'pandas.core.frame.DataFrame'>\n",
      "RangeIndex: 1000 entries, 0 to 999\n",
      "Data columns (total 7 columns):\n",
      " #   Column         Non-Null Count  Dtype \n",
      "---  ------         --------------  ----- \n",
      " 0   S.no           1000 non-null   int64 \n",
      " 1   username       1000 non-null   object\n",
      " 2   followers      1000 non-null   object\n",
      " 3   Country        996 non-null    object\n",
      " 4   viewers        1000 non-null   object\n",
      " 5   Average views  1000 non-null   object\n",
      " 6   Categories     1000 non-null   object\n",
      "dtypes: int64(1), object(6)\n",
      "memory usage: 54.8+ KB\n"
     ]
    }
   ],
   "source": [
    "influencer_df.info()"
   ]
  },
  {
   "cell_type": "code",
   "execution_count": 6,
   "metadata": {
    "execution": {
     "iopub.execute_input": "2024-10-08T11:43:00.410555Z",
     "iopub.status.busy": "2024-10-08T11:43:00.409659Z",
     "iopub.status.idle": "2024-10-08T11:43:00.430632Z",
     "shell.execute_reply": "2024-10-08T11:43:00.429313Z",
     "shell.execute_reply.started": "2024-10-08T11:43:00.410508Z"
    },
    "trusted": true
   },
   "outputs": [
    {
     "data": {
      "text/html": [
       "<div>\n",
       "<style scoped>\n",
       "    .dataframe tbody tr th:only-of-type {\n",
       "        vertical-align: middle;\n",
       "    }\n",
       "\n",
       "    .dataframe tbody tr th {\n",
       "        vertical-align: top;\n",
       "    }\n",
       "\n",
       "    .dataframe thead th {\n",
       "        text-align: right;\n",
       "    }\n",
       "</style>\n",
       "<table border=\"1\" class=\"dataframe\">\n",
       "  <thead>\n",
       "    <tr style=\"text-align: right;\">\n",
       "      <th></th>\n",
       "      <th>S.no</th>\n",
       "      <th>username</th>\n",
       "      <th>followers</th>\n",
       "      <th>Country</th>\n",
       "      <th>viewers</th>\n",
       "      <th>Average views</th>\n",
       "      <th>Categories</th>\n",
       "    </tr>\n",
       "  </thead>\n",
       "  <tbody>\n",
       "    <tr>\n",
       "      <th>0</th>\n",
       "      <td>1</td>\n",
       "      <td>cristiano</td>\n",
       "      <td>477.9M</td>\n",
       "      <td>India</td>\n",
       "      <td>5M</td>\n",
       "      <td>6.2M</td>\n",
       "      <td>'Parenting and family', 'Art', 'History'</td>\n",
       "    </tr>\n",
       "    <tr>\n",
       "      <th>1</th>\n",
       "      <td>2</td>\n",
       "      <td>kyliejenner</td>\n",
       "      <td>368.1M</td>\n",
       "      <td>United States</td>\n",
       "      <td>3.5M</td>\n",
       "      <td>5.5M</td>\n",
       "      <td>'Finance and investments', 'Travel', 'Pets'</td>\n",
       "    </tr>\n",
       "    <tr>\n",
       "      <th>2</th>\n",
       "      <td>3</td>\n",
       "      <td>arianagrande</td>\n",
       "      <td>329.6M</td>\n",
       "      <td>United States</td>\n",
       "      <td>2.9M</td>\n",
       "      <td>4M</td>\n",
       "      <td>'Science', 'Movies', 'Beauty'</td>\n",
       "    </tr>\n",
       "    <tr>\n",
       "      <th>3</th>\n",
       "      <td>4</td>\n",
       "      <td>leomessi</td>\n",
       "      <td>358.6M</td>\n",
       "      <td>Indonesia</td>\n",
       "      <td>2.7M</td>\n",
       "      <td>3.5M</td>\n",
       "      <td>'Cars and automobiles', 'Beauty', 'Health and ...</td>\n",
       "    </tr>\n",
       "    <tr>\n",
       "      <th>4</th>\n",
       "      <td>5</td>\n",
       "      <td>zendaya</td>\n",
       "      <td>151.1M</td>\n",
       "      <td>United States</td>\n",
       "      <td>4.3M</td>\n",
       "      <td>5.8M</td>\n",
       "      <td>'Parenting and family', 'Beauty', 'Art'</td>\n",
       "    </tr>\n",
       "  </tbody>\n",
       "</table>\n",
       "</div>"
      ],
      "text/plain": [
       "   S.no      username followers        Country viewers Average views  \\\n",
       "0     1     cristiano    477.9M          India      5M          6.2M   \n",
       "1     2   kyliejenner    368.1M  United States    3.5M          5.5M   \n",
       "2     3  arianagrande    329.6M  United States    2.9M            4M   \n",
       "3     4      leomessi    358.6M      Indonesia    2.7M          3.5M   \n",
       "4     5       zendaya    151.1M  United States    4.3M          5.8M   \n",
       "\n",
       "                                          Categories  \n",
       "0           'Parenting and family', 'Art', 'History'  \n",
       "1        'Finance and investments', 'Travel', 'Pets'  \n",
       "2                      'Science', 'Movies', 'Beauty'  \n",
       "3  'Cars and automobiles', 'Beauty', 'Health and ...  \n",
       "4            'Parenting and family', 'Beauty', 'Art'  "
      ]
     },
     "execution_count": 6,
     "metadata": {},
     "output_type": "execute_result"
    }
   ],
   "source": [
    "influencer_df.head()"
   ]
  },
  {
   "cell_type": "markdown",
   "metadata": {},
   "source": [
    "## Data Preprocessing for influencer data"
   ]
  },
  {
   "cell_type": "markdown",
   "metadata": {},
   "source": [
    "**Dealing with duplicate data**"
   ]
  },
  {
   "cell_type": "code",
   "execution_count": 7,
   "metadata": {
    "execution": {
     "iopub.execute_input": "2024-10-08T11:43:00.432549Z",
     "iopub.status.busy": "2024-10-08T11:43:00.432157Z",
     "iopub.status.idle": "2024-10-08T11:43:00.442472Z",
     "shell.execute_reply": "2024-10-08T11:43:00.441089Z",
     "shell.execute_reply.started": "2024-10-08T11:43:00.432508Z"
    },
    "trusted": true
   },
   "outputs": [
    {
     "name": "stdout",
     "output_type": "stream",
     "text": [
      "0 duplicates detected\n"
     ]
    }
   ],
   "source": [
    "print(f'{influencer_df.duplicated().sum()} duplicates detected')"
   ]
  },
  {
   "cell_type": "markdown",
   "metadata": {},
   "source": [
    "**Encoding text labels**"
   ]
  },
  {
   "cell_type": "code",
   "execution_count": 8,
   "metadata": {
    "execution": {
     "iopub.execute_input": "2024-10-08T11:43:00.444311Z",
     "iopub.status.busy": "2024-10-08T11:43:00.443862Z",
     "iopub.status.idle": "2024-10-08T11:43:00.452525Z",
     "shell.execute_reply": "2024-10-08T11:43:00.451227Z",
     "shell.execute_reply.started": "2024-10-08T11:43:00.444269Z"
    },
    "trusted": true
   },
   "outputs": [],
   "source": [
    "influencer_df[\"Categories\"]=influencer_df[\"Categories\"].apply(lambda x: x.split(\", \"))"
   ]
  },
  {
   "cell_type": "code",
   "execution_count": 9,
   "metadata": {
    "execution": {
     "iopub.execute_input": "2024-10-08T11:43:00.454391Z",
     "iopub.status.busy": "2024-10-08T11:43:00.453973Z",
     "iopub.status.idle": "2024-10-08T11:43:00.470762Z",
     "shell.execute_reply": "2024-10-08T11:43:00.469598Z",
     "shell.execute_reply.started": "2024-10-08T11:43:00.454352Z"
    },
    "trusted": true
   },
   "outputs": [],
   "source": [
    "mlb = MultiLabelBinarizer()\n",
    "content_cats = pd.DataFrame(mlb.fit_transform(influencer_df['Categories']), \n",
    "                      columns=[col.replace(\"'\", \"\").replace('\"', '') for col in mlb.classes_]\n",
    "                     )"
   ]
  },
  {
   "cell_type": "code",
   "execution_count": 10,
   "metadata": {
    "execution": {
     "iopub.execute_input": "2024-10-08T11:43:00.473374Z",
     "iopub.status.busy": "2024-10-08T11:43:00.472438Z",
     "iopub.status.idle": "2024-10-08T11:43:00.481161Z",
     "shell.execute_reply": "2024-10-08T11:43:00.479991Z",
     "shell.execute_reply.started": "2024-10-08T11:43:00.473317Z"
    },
    "trusted": true
   },
   "outputs": [],
   "source": [
    "influencer_df.drop(columns=['Categories','S.no'], inplace=True)"
   ]
  },
  {
   "cell_type": "markdown",
   "metadata": {},
   "source": [
    "**Encoding engagement data**"
   ]
  },
  {
   "cell_type": "code",
   "execution_count": 11,
   "metadata": {
    "execution": {
     "iopub.execute_input": "2024-10-08T11:43:00.483661Z",
     "iopub.status.busy": "2024-10-08T11:43:00.482601Z",
     "iopub.status.idle": "2024-10-08T11:43:00.491899Z",
     "shell.execute_reply": "2024-10-08T11:43:00.490932Z",
     "shell.execute_reply.started": "2024-10-08T11:43:00.483603Z"
    },
    "trusted": true
   },
   "outputs": [],
   "source": [
    "def unit_stdzer(value):\n",
    "    if value.endswith('K'):\n",
    "        return float(value[:-1])\n",
    "    elif value.endswith('M'):\n",
    "        return float(value[:-1]) * 1000\n",
    "    else:\n",
    "        return float(value)"
   ]
  },
  {
   "cell_type": "code",
   "execution_count": 12,
   "metadata": {
    "execution": {
     "iopub.execute_input": "2024-10-08T11:43:00.497623Z",
     "iopub.status.busy": "2024-10-08T11:43:00.497203Z",
     "iopub.status.idle": "2024-10-08T11:43:00.504317Z",
     "shell.execute_reply": "2024-10-08T11:43:00.503389Z",
     "shell.execute_reply.started": "2024-10-08T11:43:00.497581Z"
    },
    "trusted": true
   },
   "outputs": [],
   "source": [
    "influencer_df.rename(columns={'followers':'followers(in K)', 'Average views':'avg views(in K)' ,'viewers':'viewers(in K)'},inplace=True)"
   ]
  },
  {
   "cell_type": "code",
   "execution_count": 13,
   "metadata": {
    "execution": {
     "iopub.execute_input": "2024-10-08T11:43:00.505793Z",
     "iopub.status.busy": "2024-10-08T11:43:00.505449Z",
     "iopub.status.idle": "2024-10-08T11:43:00.522189Z",
     "shell.execute_reply": "2024-10-08T11:43:00.520962Z",
     "shell.execute_reply.started": "2024-10-08T11:43:00.505754Z"
    },
    "trusted": true
   },
   "outputs": [],
   "source": [
    "num_cols=['followers(in K)', 'avg views(in K)','viewers(in K)']\n",
    "for col in num_cols:\n",
    "    influencer_df[col] = influencer_df[col].apply(unit_stdzer)"
   ]
  },
  {
   "cell_type": "code",
   "execution_count": 14,
   "metadata": {
    "execution": {
     "iopub.execute_input": "2024-10-08T11:43:00.524198Z",
     "iopub.status.busy": "2024-10-08T11:43:00.523693Z",
     "iopub.status.idle": "2024-10-08T11:43:00.542121Z",
     "shell.execute_reply": "2024-10-08T11:43:00.540932Z",
     "shell.execute_reply.started": "2024-10-08T11:43:00.524133Z"
    },
    "trusted": true
   },
   "outputs": [],
   "source": [
    "scaler = StandardScaler()\n",
    "influencer_df[num_cols] = scaler.fit_transform(influencer_df[num_cols])"
   ]
  },
  {
   "cell_type": "markdown",
   "metadata": {},
   "source": [
    "**Encoding demographic data**"
   ]
  },
  {
   "cell_type": "code",
   "execution_count": 15,
   "metadata": {
    "execution": {
     "iopub.execute_input": "2024-10-08T11:43:00.544346Z",
     "iopub.status.busy": "2024-10-08T11:43:00.543848Z",
     "iopub.status.idle": "2024-10-08T11:43:00.555427Z",
     "shell.execute_reply": "2024-10-08T11:43:00.554147Z",
     "shell.execute_reply.started": "2024-10-08T11:43:00.544287Z"
    },
    "trusted": true
   },
   "outputs": [],
   "source": [
    "# Treating null values\n",
    "influencer_df['Country']=influencer_df['Country'].replace({None:influencer_df['Country'].mode()[0]})"
   ]
  },
  {
   "cell_type": "markdown",
   "metadata": {},
   "source": [
    "Apply the function to the influencer data\n"
   ]
  },
  {
   "cell_type": "code",
   "execution_count": 16,
   "metadata": {
    "execution": {
     "iopub.execute_input": "2024-10-08T11:43:00.557878Z",
     "iopub.status.busy": "2024-10-08T11:43:00.557470Z",
     "iopub.status.idle": "2024-10-08T11:43:00.574421Z",
     "shell.execute_reply": "2024-10-08T11:43:00.573077Z",
     "shell.execute_reply.started": "2024-10-08T11:43:00.557838Z"
    },
    "trusted": true
   },
   "outputs": [
    {
     "name": "stdout",
     "output_type": "stream",
     "text": [
      "<class 'pandas.core.frame.DataFrame'>\n",
      "RangeIndex: 1000 entries, 0 to 999\n",
      "Data columns (total 5 columns):\n",
      " #   Column           Non-Null Count  Dtype  \n",
      "---  ------           --------------  -----  \n",
      " 0   username         1000 non-null   object \n",
      " 1   followers(in K)  1000 non-null   float64\n",
      " 2   Country          1000 non-null   object \n",
      " 3   viewers(in K)    1000 non-null   float64\n",
      " 4   avg views(in K)  1000 non-null   float64\n",
      "dtypes: float64(3), object(2)\n",
      "memory usage: 39.2+ KB\n"
     ]
    }
   ],
   "source": [
    "influencer_df.info()"
   ]
  },
  {
   "cell_type": "code",
   "execution_count": 17,
   "metadata": {
    "execution": {
     "iopub.execute_input": "2024-10-08T11:43:00.576347Z",
     "iopub.status.busy": "2024-10-08T11:43:00.575902Z",
     "iopub.status.idle": "2024-10-08T11:43:00.587264Z",
     "shell.execute_reply": "2024-10-08T11:43:00.586083Z",
     "shell.execute_reply.started": "2024-10-08T11:43:00.576303Z"
    },
    "trusted": true
   },
   "outputs": [],
   "source": [
    "def get_lat_long(country, geo_cache):\n",
    "    if country in geo_cache:\n",
    "        return geo_cache[country]\n",
    "    \n",
    "    api_key=\"aa7564528057489eb30768cf163e7012\" # your opencage api key\n",
    "    url = f\"https://api.opencagedata.com/geocode/v1/json?q={country}&key={api_key}\"\n",
    "    \n",
    "    try:\n",
    "        response = requests.get(url)\n",
    "        response.raise_for_status()  # Check if the request was successful\n",
    "        data = response.json()\n",
    "        \n",
    "        if data['results']:\n",
    "            lat = int(data['results'][0]['geometry']['lat'])\n",
    "            long = int(data['results'][0]['geometry']['lng'])\n",
    "            geo_cache[country] = (lat, long)  # Cache the result for future use\n",
    "            return lat, long\n",
    "        else:\n",
    "            return None, None\n",
    "    except requests.exceptions.RequestException as e:\n",
    "        print(f\"Error fetching lat-long for {country}: {e}\")\n",
    "        return None, None"
   ]
  },
  {
   "cell_type": "code",
   "execution_count": 18,
   "metadata": {
    "execution": {
     "iopub.execute_input": "2024-10-08T11:43:00.589158Z",
     "iopub.status.busy": "2024-10-08T11:43:00.588758Z",
     "iopub.status.idle": "2024-10-08T11:43:09.485306Z",
     "shell.execute_reply": "2024-10-08T11:43:09.484210Z",
     "shell.execute_reply.started": "2024-10-08T11:43:00.589109Z"
    },
    "trusted": true
   },
   "outputs": [],
   "source": [
    "influencer_lat = []\n",
    "influencer_long = []\n",
    "geo_cache={}\n",
    "for index, row in influencer_df.iterrows():\n",
    "    lat, long = get_lat_long(row['Country'],geo_cache)\n",
    "    influencer_lat.append(lat)\n",
    "    influencer_long.append(long)\n",
    "\n",
    "influencer_df['latitude'] = influencer_lat\n",
    "influencer_df['longitude'] = influencer_long"
   ]
  },
  {
   "cell_type": "code",
   "execution_count": 19,
   "metadata": {
    "execution": {
     "iopub.execute_input": "2024-10-08T11:43:09.487292Z",
     "iopub.status.busy": "2024-10-08T11:43:09.486796Z",
     "iopub.status.idle": "2024-10-08T11:43:09.495911Z",
     "shell.execute_reply": "2024-10-08T11:43:09.494724Z",
     "shell.execute_reply.started": "2024-10-08T11:43:09.487237Z"
    },
    "trusted": true
   },
   "outputs": [],
   "source": [
    "influencer_df.drop(columns=[\"Country\"],inplace=True)"
   ]
  },
  {
   "cell_type": "code",
   "execution_count": 20,
   "metadata": {
    "execution": {
     "iopub.execute_input": "2024-10-08T11:43:09.498147Z",
     "iopub.status.busy": "2024-10-08T11:43:09.497655Z",
     "iopub.status.idle": "2024-10-08T11:43:09.517343Z",
     "shell.execute_reply": "2024-10-08T11:43:09.516179Z",
     "shell.execute_reply.started": "2024-10-08T11:43:09.498094Z"
    },
    "trusted": true
   },
   "outputs": [
    {
     "data": {
      "text/html": [
       "<div>\n",
       "<style scoped>\n",
       "    .dataframe tbody tr th:only-of-type {\n",
       "        vertical-align: middle;\n",
       "    }\n",
       "\n",
       "    .dataframe tbody tr th {\n",
       "        vertical-align: top;\n",
       "    }\n",
       "\n",
       "    .dataframe thead th {\n",
       "        text-align: right;\n",
       "    }\n",
       "</style>\n",
       "<table border=\"1\" class=\"dataframe\">\n",
       "  <thead>\n",
       "    <tr style=\"text-align: right;\">\n",
       "      <th></th>\n",
       "      <th>username</th>\n",
       "      <th>followers(in K)</th>\n",
       "      <th>viewers(in K)</th>\n",
       "      <th>avg views(in K)</th>\n",
       "      <th>latitude</th>\n",
       "      <th>longitude</th>\n",
       "    </tr>\n",
       "  </thead>\n",
       "  <tbody>\n",
       "    <tr>\n",
       "      <th>0</th>\n",
       "      <td>cristiano</td>\n",
       "      <td>10.023948</td>\n",
       "      <td>4.612757</td>\n",
       "      <td>5.077109</td>\n",
       "      <td>22</td>\n",
       "      <td>78</td>\n",
       "    </tr>\n",
       "    <tr>\n",
       "      <th>1</th>\n",
       "      <td>kyliejenner</td>\n",
       "      <td>7.583637</td>\n",
       "      <td>3.051233</td>\n",
       "      <td>4.424813</td>\n",
       "      <td>39</td>\n",
       "      <td>-100</td>\n",
       "    </tr>\n",
       "    <tr>\n",
       "      <th>2</th>\n",
       "      <td>arianagrande</td>\n",
       "      <td>6.727972</td>\n",
       "      <td>2.426624</td>\n",
       "      <td>3.027035</td>\n",
       "      <td>39</td>\n",
       "      <td>-100</td>\n",
       "    </tr>\n",
       "    <tr>\n",
       "      <th>3</th>\n",
       "      <td>leomessi</td>\n",
       "      <td>7.372499</td>\n",
       "      <td>2.218421</td>\n",
       "      <td>2.561110</td>\n",
       "      <td>-2</td>\n",
       "      <td>117</td>\n",
       "    </tr>\n",
       "    <tr>\n",
       "      <th>4</th>\n",
       "      <td>zendaya</td>\n",
       "      <td>2.760799</td>\n",
       "      <td>3.884046</td>\n",
       "      <td>4.704368</td>\n",
       "      <td>39</td>\n",
       "      <td>-100</td>\n",
       "    </tr>\n",
       "  </tbody>\n",
       "</table>\n",
       "</div>"
      ],
      "text/plain": [
       "       username  followers(in K)  viewers(in K)  avg views(in K)  latitude  \\\n",
       "0     cristiano        10.023948       4.612757         5.077109        22   \n",
       "1   kyliejenner         7.583637       3.051233         4.424813        39   \n",
       "2  arianagrande         6.727972       2.426624         3.027035        39   \n",
       "3      leomessi         7.372499       2.218421         2.561110        -2   \n",
       "4       zendaya         2.760799       3.884046         4.704368        39   \n",
       "\n",
       "   longitude  \n",
       "0         78  \n",
       "1       -100  \n",
       "2       -100  \n",
       "3        117  \n",
       "4       -100  "
      ]
     },
     "execution_count": 20,
     "metadata": {},
     "output_type": "execute_result"
    }
   ],
   "source": [
    "influencer_df.head()"
   ]
  },
  {
   "cell_type": "markdown",
   "metadata": {},
   "source": [
    "# Data Preprocessing users data"
   ]
  },
  {
   "cell_type": "code",
   "execution_count": 21,
   "metadata": {
    "execution": {
     "iopub.execute_input": "2024-10-08T11:43:09.519544Z",
     "iopub.status.busy": "2024-10-08T11:43:09.519080Z",
     "iopub.status.idle": "2024-10-08T11:43:09.981131Z",
     "shell.execute_reply": "2024-10-08T11:43:09.979830Z",
     "shell.execute_reply.started": "2024-10-08T11:43:09.519499Z"
    },
    "trusted": true
   },
   "outputs": [],
   "source": [
    "usersdf=pd.read_csv(\"SocialMediaUsers.csv\") # User Data "
   ]
  },
  {
   "cell_type": "code",
   "execution_count": 22,
   "metadata": {
    "execution": {
     "iopub.execute_input": "2024-10-08T11:43:09.983332Z",
     "iopub.status.busy": "2024-10-08T11:43:09.982815Z",
     "iopub.status.idle": "2024-10-08T11:43:10.064404Z",
     "shell.execute_reply": "2024-10-08T11:43:10.063063Z",
     "shell.execute_reply.started": "2024-10-08T11:43:09.983274Z"
    },
    "trusted": true
   },
   "outputs": [
    {
     "name": "stdout",
     "output_type": "stream",
     "text": [
      "<class 'pandas.core.frame.DataFrame'>\n",
      "RangeIndex: 100000 entries, 0 to 99999\n",
      "Data columns (total 7 columns):\n",
      " #   Column     Non-Null Count   Dtype \n",
      "---  ------     --------------   ----- \n",
      " 0   UserID     100000 non-null  int64 \n",
      " 1   Name       100000 non-null  object\n",
      " 2   Gender     100000 non-null  object\n",
      " 3   DOB        100000 non-null  object\n",
      " 4   Interests  100000 non-null  object\n",
      " 5   City       100000 non-null  object\n",
      " 6   Country    100000 non-null  object\n",
      "dtypes: int64(1), object(6)\n",
      "memory usage: 5.3+ MB\n"
     ]
    }
   ],
   "source": [
    "usersdf.info()"
   ]
  },
  {
   "cell_type": "code",
   "execution_count": 23,
   "metadata": {
    "execution": {
     "iopub.execute_input": "2024-10-08T11:43:10.066845Z",
     "iopub.status.busy": "2024-10-08T11:43:10.065966Z",
     "iopub.status.idle": "2024-10-08T11:43:10.286749Z",
     "shell.execute_reply": "2024-10-08T11:43:10.285534Z",
     "shell.execute_reply.started": "2024-10-08T11:43:10.066800Z"
    },
    "trusted": true
   },
   "outputs": [],
   "source": [
    "usersdf['Interests']=usersdf['Interests'].apply(lambda x: x.split(\", \"))"
   ]
  },
  {
   "cell_type": "code",
   "execution_count": 24,
   "metadata": {
    "execution": {
     "iopub.execute_input": "2024-10-08T11:43:10.288836Z",
     "iopub.status.busy": "2024-10-08T11:43:10.288331Z",
     "iopub.status.idle": "2024-10-08T11:43:10.306334Z",
     "shell.execute_reply": "2024-10-08T11:43:10.305102Z",
     "shell.execute_reply.started": "2024-10-08T11:43:10.288782Z"
    },
    "trusted": true
   },
   "outputs": [
    {
     "data": {
      "text/html": [
       "<div>\n",
       "<style scoped>\n",
       "    .dataframe tbody tr th:only-of-type {\n",
       "        vertical-align: middle;\n",
       "    }\n",
       "\n",
       "    .dataframe tbody tr th {\n",
       "        vertical-align: top;\n",
       "    }\n",
       "\n",
       "    .dataframe thead th {\n",
       "        text-align: right;\n",
       "    }\n",
       "</style>\n",
       "<table border=\"1\" class=\"dataframe\">\n",
       "  <thead>\n",
       "    <tr style=\"text-align: right;\">\n",
       "      <th></th>\n",
       "      <th>UserID</th>\n",
       "      <th>Name</th>\n",
       "      <th>Gender</th>\n",
       "      <th>DOB</th>\n",
       "      <th>Interests</th>\n",
       "      <th>City</th>\n",
       "      <th>Country</th>\n",
       "    </tr>\n",
       "  </thead>\n",
       "  <tbody>\n",
       "    <tr>\n",
       "      <th>0</th>\n",
       "      <td>1</td>\n",
       "      <td>Jesse Lawhorn</td>\n",
       "      <td>Female</td>\n",
       "      <td>1958-10-15</td>\n",
       "      <td>['Movies', 'Fashion', 'Fashion', 'Books']</td>\n",
       "      <td>Sibolga</td>\n",
       "      <td>Indonesia</td>\n",
       "    </tr>\n",
       "    <tr>\n",
       "      <th>1</th>\n",
       "      <td>2</td>\n",
       "      <td>Stacy Payne</td>\n",
       "      <td>Female</td>\n",
       "      <td>2004-07-21</td>\n",
       "      <td>['Gaming', 'Finance and investments', 'Outdoor...</td>\n",
       "      <td>Al Abyār</td>\n",
       "      <td>Libya</td>\n",
       "    </tr>\n",
       "    <tr>\n",
       "      <th>2</th>\n",
       "      <td>3</td>\n",
       "      <td>Katrina Nicewander</td>\n",
       "      <td>Female</td>\n",
       "      <td>2000-02-07</td>\n",
       "      <td>['DIY and crafts', 'Music', 'Science', 'Fashion']</td>\n",
       "      <td>Wādī as Sīr</td>\n",
       "      <td>Jordan</td>\n",
       "    </tr>\n",
       "    <tr>\n",
       "      <th>3</th>\n",
       "      <td>4</td>\n",
       "      <td>Eric Yarbrough</td>\n",
       "      <td>Male</td>\n",
       "      <td>1985-04-14</td>\n",
       "      <td>['Outdoor activities', 'Cars and automobiles']</td>\n",
       "      <td>Matera</td>\n",
       "      <td>Italy</td>\n",
       "    </tr>\n",
       "    <tr>\n",
       "      <th>4</th>\n",
       "      <td>5</td>\n",
       "      <td>Daniel Adkins</td>\n",
       "      <td>Female</td>\n",
       "      <td>1955-09-18</td>\n",
       "      <td>['Politics', 'History']</td>\n",
       "      <td>Biruaca</td>\n",
       "      <td>Venezuela</td>\n",
       "    </tr>\n",
       "  </tbody>\n",
       "</table>\n",
       "</div>"
      ],
      "text/plain": [
       "   UserID                Name  Gender         DOB  \\\n",
       "0       1       Jesse Lawhorn  Female  1958-10-15   \n",
       "1       2         Stacy Payne  Female  2004-07-21   \n",
       "2       3  Katrina Nicewander  Female  2000-02-07   \n",
       "3       4      Eric Yarbrough    Male  1985-04-14   \n",
       "4       5       Daniel Adkins  Female  1955-09-18   \n",
       "\n",
       "                                           Interests         City    Country  \n",
       "0          ['Movies', 'Fashion', 'Fashion', 'Books']      Sibolga  Indonesia  \n",
       "1  ['Gaming', 'Finance and investments', 'Outdoor...     Al Abyār      Libya  \n",
       "2  ['DIY and crafts', 'Music', 'Science', 'Fashion']  Wādī as Sīr     Jordan  \n",
       "3     ['Outdoor activities', 'Cars and automobiles']       Matera      Italy  \n",
       "4                            ['Politics', 'History']      Biruaca  Venezuela  "
      ]
     },
     "execution_count": 24,
     "metadata": {},
     "output_type": "execute_result"
    }
   ],
   "source": [
    "usersdf.head()"
   ]
  },
  {
   "cell_type": "markdown",
   "metadata": {},
   "source": [
    "**Encoding User preference data**"
   ]
  },
  {
   "cell_type": "code",
   "execution_count": 25,
   "metadata": {
    "execution": {
     "iopub.execute_input": "2024-10-08T11:43:10.308449Z",
     "iopub.status.busy": "2024-10-08T11:43:10.307944Z",
     "iopub.status.idle": "2024-10-08T11:43:10.577697Z",
     "shell.execute_reply": "2024-10-08T11:43:10.576431Z",
     "shell.execute_reply.started": "2024-10-08T11:43:10.308393Z"
    },
    "trusted": true
   },
   "outputs": [],
   "source": [
    "user_preferences=pd.DataFrame(mlb.fit_transform(usersdf[\"Interests\"]),\n",
    "                    columns=[col.replace(\"'\", \"\").replace('\"', '') for col in mlb.classes_])\n",
    "usersdf.drop(columns=['Interests'], inplace=True)"
   ]
  },
  {
   "cell_type": "code",
   "execution_count": 26,
   "metadata": {
    "execution": {
     "iopub.execute_input": "2024-10-08T11:43:10.579567Z",
     "iopub.status.busy": "2024-10-08T11:43:10.579204Z",
     "iopub.status.idle": "2024-10-08T11:43:10.651367Z",
     "shell.execute_reply": "2024-10-08T11:43:10.650084Z",
     "shell.execute_reply.started": "2024-10-08T11:43:10.579527Z"
    },
    "trusted": true
   },
   "outputs": [
    {
     "data": {
      "text/html": [
       "<div>\n",
       "<style scoped>\n",
       "    .dataframe tbody tr th:only-of-type {\n",
       "        vertical-align: middle;\n",
       "    }\n",
       "\n",
       "    .dataframe tbody tr th {\n",
       "        vertical-align: top;\n",
       "    }\n",
       "\n",
       "    .dataframe thead th {\n",
       "        text-align: right;\n",
       "    }\n",
       "</style>\n",
       "<table border=\"1\" class=\"dataframe\">\n",
       "  <thead>\n",
       "    <tr style=\"text-align: right;\">\n",
       "      <th></th>\n",
       "      <th>Art</th>\n",
       "      <th>Beauty</th>\n",
       "      <th>Books</th>\n",
       "      <th>Business and entrepreneurship</th>\n",
       "      <th>Cars and automobiles</th>\n",
       "      <th>Cooking</th>\n",
       "      <th>DIY and crafts</th>\n",
       "      <th>Education and learning</th>\n",
       "      <th>Fashion</th>\n",
       "      <th>Finance and investments</th>\n",
       "      <th>...</th>\n",
       "      <th>Outdoor activities</th>\n",
       "      <th>Parenting and family</th>\n",
       "      <th>Pets</th>\n",
       "      <th>Photography</th>\n",
       "      <th>Politics</th>\n",
       "      <th>Science</th>\n",
       "      <th>Social causes and activism</th>\n",
       "      <th>Sports</th>\n",
       "      <th>Technology</th>\n",
       "      <th>Travel</th>\n",
       "    </tr>\n",
       "  </thead>\n",
       "  <tbody>\n",
       "    <tr>\n",
       "      <th>0</th>\n",
       "      <td>0</td>\n",
       "      <td>0</td>\n",
       "      <td>1</td>\n",
       "      <td>0</td>\n",
       "      <td>0</td>\n",
       "      <td>0</td>\n",
       "      <td>0</td>\n",
       "      <td>0</td>\n",
       "      <td>1</td>\n",
       "      <td>0</td>\n",
       "      <td>...</td>\n",
       "      <td>0</td>\n",
       "      <td>0</td>\n",
       "      <td>0</td>\n",
       "      <td>0</td>\n",
       "      <td>0</td>\n",
       "      <td>0</td>\n",
       "      <td>0</td>\n",
       "      <td>0</td>\n",
       "      <td>0</td>\n",
       "      <td>0</td>\n",
       "    </tr>\n",
       "    <tr>\n",
       "      <th>1</th>\n",
       "      <td>0</td>\n",
       "      <td>0</td>\n",
       "      <td>0</td>\n",
       "      <td>0</td>\n",
       "      <td>0</td>\n",
       "      <td>0</td>\n",
       "      <td>0</td>\n",
       "      <td>0</td>\n",
       "      <td>0</td>\n",
       "      <td>1</td>\n",
       "      <td>...</td>\n",
       "      <td>1</td>\n",
       "      <td>0</td>\n",
       "      <td>0</td>\n",
       "      <td>0</td>\n",
       "      <td>0</td>\n",
       "      <td>0</td>\n",
       "      <td>0</td>\n",
       "      <td>0</td>\n",
       "      <td>0</td>\n",
       "      <td>1</td>\n",
       "    </tr>\n",
       "    <tr>\n",
       "      <th>2</th>\n",
       "      <td>0</td>\n",
       "      <td>0</td>\n",
       "      <td>0</td>\n",
       "      <td>0</td>\n",
       "      <td>0</td>\n",
       "      <td>0</td>\n",
       "      <td>1</td>\n",
       "      <td>0</td>\n",
       "      <td>1</td>\n",
       "      <td>0</td>\n",
       "      <td>...</td>\n",
       "      <td>0</td>\n",
       "      <td>0</td>\n",
       "      <td>0</td>\n",
       "      <td>0</td>\n",
       "      <td>0</td>\n",
       "      <td>1</td>\n",
       "      <td>0</td>\n",
       "      <td>0</td>\n",
       "      <td>0</td>\n",
       "      <td>0</td>\n",
       "    </tr>\n",
       "    <tr>\n",
       "      <th>3</th>\n",
       "      <td>0</td>\n",
       "      <td>0</td>\n",
       "      <td>0</td>\n",
       "      <td>0</td>\n",
       "      <td>1</td>\n",
       "      <td>0</td>\n",
       "      <td>0</td>\n",
       "      <td>0</td>\n",
       "      <td>0</td>\n",
       "      <td>0</td>\n",
       "      <td>...</td>\n",
       "      <td>1</td>\n",
       "      <td>0</td>\n",
       "      <td>0</td>\n",
       "      <td>0</td>\n",
       "      <td>0</td>\n",
       "      <td>0</td>\n",
       "      <td>0</td>\n",
       "      <td>0</td>\n",
       "      <td>0</td>\n",
       "      <td>0</td>\n",
       "    </tr>\n",
       "    <tr>\n",
       "      <th>4</th>\n",
       "      <td>0</td>\n",
       "      <td>0</td>\n",
       "      <td>0</td>\n",
       "      <td>0</td>\n",
       "      <td>0</td>\n",
       "      <td>0</td>\n",
       "      <td>0</td>\n",
       "      <td>0</td>\n",
       "      <td>0</td>\n",
       "      <td>0</td>\n",
       "      <td>...</td>\n",
       "      <td>0</td>\n",
       "      <td>0</td>\n",
       "      <td>0</td>\n",
       "      <td>0</td>\n",
       "      <td>1</td>\n",
       "      <td>0</td>\n",
       "      <td>0</td>\n",
       "      <td>0</td>\n",
       "      <td>0</td>\n",
       "      <td>0</td>\n",
       "    </tr>\n",
       "    <tr>\n",
       "      <th>...</th>\n",
       "      <td>...</td>\n",
       "      <td>...</td>\n",
       "      <td>...</td>\n",
       "      <td>...</td>\n",
       "      <td>...</td>\n",
       "      <td>...</td>\n",
       "      <td>...</td>\n",
       "      <td>...</td>\n",
       "      <td>...</td>\n",
       "      <td>...</td>\n",
       "      <td>...</td>\n",
       "      <td>...</td>\n",
       "      <td>...</td>\n",
       "      <td>...</td>\n",
       "      <td>...</td>\n",
       "      <td>...</td>\n",
       "      <td>...</td>\n",
       "      <td>...</td>\n",
       "      <td>...</td>\n",
       "      <td>...</td>\n",
       "      <td>...</td>\n",
       "    </tr>\n",
       "    <tr>\n",
       "      <th>99995</th>\n",
       "      <td>0</td>\n",
       "      <td>0</td>\n",
       "      <td>0</td>\n",
       "      <td>0</td>\n",
       "      <td>0</td>\n",
       "      <td>0</td>\n",
       "      <td>1</td>\n",
       "      <td>0</td>\n",
       "      <td>0</td>\n",
       "      <td>0</td>\n",
       "      <td>...</td>\n",
       "      <td>0</td>\n",
       "      <td>0</td>\n",
       "      <td>0</td>\n",
       "      <td>0</td>\n",
       "      <td>0</td>\n",
       "      <td>0</td>\n",
       "      <td>0</td>\n",
       "      <td>0</td>\n",
       "      <td>0</td>\n",
       "      <td>0</td>\n",
       "    </tr>\n",
       "    <tr>\n",
       "      <th>99996</th>\n",
       "      <td>0</td>\n",
       "      <td>0</td>\n",
       "      <td>0</td>\n",
       "      <td>0</td>\n",
       "      <td>1</td>\n",
       "      <td>1</td>\n",
       "      <td>0</td>\n",
       "      <td>0</td>\n",
       "      <td>0</td>\n",
       "      <td>0</td>\n",
       "      <td>...</td>\n",
       "      <td>1</td>\n",
       "      <td>0</td>\n",
       "      <td>0</td>\n",
       "      <td>0</td>\n",
       "      <td>0</td>\n",
       "      <td>0</td>\n",
       "      <td>0</td>\n",
       "      <td>0</td>\n",
       "      <td>0</td>\n",
       "      <td>0</td>\n",
       "    </tr>\n",
       "    <tr>\n",
       "      <th>99997</th>\n",
       "      <td>0</td>\n",
       "      <td>0</td>\n",
       "      <td>0</td>\n",
       "      <td>1</td>\n",
       "      <td>0</td>\n",
       "      <td>1</td>\n",
       "      <td>0</td>\n",
       "      <td>0</td>\n",
       "      <td>0</td>\n",
       "      <td>0</td>\n",
       "      <td>...</td>\n",
       "      <td>0</td>\n",
       "      <td>0</td>\n",
       "      <td>0</td>\n",
       "      <td>0</td>\n",
       "      <td>0</td>\n",
       "      <td>0</td>\n",
       "      <td>0</td>\n",
       "      <td>0</td>\n",
       "      <td>0</td>\n",
       "      <td>0</td>\n",
       "    </tr>\n",
       "    <tr>\n",
       "      <th>99998</th>\n",
       "      <td>0</td>\n",
       "      <td>0</td>\n",
       "      <td>0</td>\n",
       "      <td>1</td>\n",
       "      <td>0</td>\n",
       "      <td>0</td>\n",
       "      <td>0</td>\n",
       "      <td>0</td>\n",
       "      <td>1</td>\n",
       "      <td>0</td>\n",
       "      <td>...</td>\n",
       "      <td>0</td>\n",
       "      <td>1</td>\n",
       "      <td>0</td>\n",
       "      <td>1</td>\n",
       "      <td>0</td>\n",
       "      <td>0</td>\n",
       "      <td>0</td>\n",
       "      <td>0</td>\n",
       "      <td>0</td>\n",
       "      <td>0</td>\n",
       "    </tr>\n",
       "    <tr>\n",
       "      <th>99999</th>\n",
       "      <td>0</td>\n",
       "      <td>0</td>\n",
       "      <td>0</td>\n",
       "      <td>0</td>\n",
       "      <td>0</td>\n",
       "      <td>0</td>\n",
       "      <td>0</td>\n",
       "      <td>0</td>\n",
       "      <td>0</td>\n",
       "      <td>0</td>\n",
       "      <td>...</td>\n",
       "      <td>0</td>\n",
       "      <td>0</td>\n",
       "      <td>1</td>\n",
       "      <td>0</td>\n",
       "      <td>1</td>\n",
       "      <td>0</td>\n",
       "      <td>0</td>\n",
       "      <td>0</td>\n",
       "      <td>0</td>\n",
       "      <td>0</td>\n",
       "    </tr>\n",
       "  </tbody>\n",
       "</table>\n",
       "<p>100000 rows × 29 columns</p>\n",
       "</div>"
      ],
      "text/plain": [
       "       Art  Beauty  Books  Business and entrepreneurship  \\\n",
       "0        0       0      1                              0   \n",
       "1        0       0      0                              0   \n",
       "2        0       0      0                              0   \n",
       "3        0       0      0                              0   \n",
       "4        0       0      0                              0   \n",
       "...    ...     ...    ...                            ...   \n",
       "99995    0       0      0                              0   \n",
       "99996    0       0      0                              0   \n",
       "99997    0       0      0                              1   \n",
       "99998    0       0      0                              1   \n",
       "99999    0       0      0                              0   \n",
       "\n",
       "       Cars and automobiles  Cooking  DIY and crafts  Education and learning  \\\n",
       "0                         0        0               0                       0   \n",
       "1                         0        0               0                       0   \n",
       "2                         0        0               1                       0   \n",
       "3                         1        0               0                       0   \n",
       "4                         0        0               0                       0   \n",
       "...                     ...      ...             ...                     ...   \n",
       "99995                     0        0               1                       0   \n",
       "99996                     1        1               0                       0   \n",
       "99997                     0        1               0                       0   \n",
       "99998                     0        0               0                       0   \n",
       "99999                     0        0               0                       0   \n",
       "\n",
       "       Fashion  Finance and investments  ...  Outdoor activities  \\\n",
       "0            1                        0  ...                   0   \n",
       "1            0                        1  ...                   1   \n",
       "2            1                        0  ...                   0   \n",
       "3            0                        0  ...                   1   \n",
       "4            0                        0  ...                   0   \n",
       "...        ...                      ...  ...                 ...   \n",
       "99995        0                        0  ...                   0   \n",
       "99996        0                        0  ...                   1   \n",
       "99997        0                        0  ...                   0   \n",
       "99998        1                        0  ...                   0   \n",
       "99999        0                        0  ...                   0   \n",
       "\n",
       "       Parenting and family  Pets  Photography  Politics  Science  \\\n",
       "0                         0     0            0         0        0   \n",
       "1                         0     0            0         0        0   \n",
       "2                         0     0            0         0        1   \n",
       "3                         0     0            0         0        0   \n",
       "4                         0     0            0         1        0   \n",
       "...                     ...   ...          ...       ...      ...   \n",
       "99995                     0     0            0         0        0   \n",
       "99996                     0     0            0         0        0   \n",
       "99997                     0     0            0         0        0   \n",
       "99998                     1     0            1         0        0   \n",
       "99999                     0     1            0         1        0   \n",
       "\n",
       "       Social causes and activism  Sports  Technology  Travel  \n",
       "0                               0       0           0       0  \n",
       "1                               0       0           0       1  \n",
       "2                               0       0           0       0  \n",
       "3                               0       0           0       0  \n",
       "4                               0       0           0       0  \n",
       "...                           ...     ...         ...     ...  \n",
       "99995                           0       0           0       0  \n",
       "99996                           0       0           0       0  \n",
       "99997                           0       0           0       0  \n",
       "99998                           0       0           0       0  \n",
       "99999                           0       0           0       0  \n",
       "\n",
       "[100000 rows x 29 columns]"
      ]
     },
     "execution_count": 26,
     "metadata": {},
     "output_type": "execute_result"
    }
   ],
   "source": [
    "user_preferences"
   ]
  },
  {
   "cell_type": "markdown",
   "metadata": {},
   "source": [
    "**Encoding Demographic Data of user**"
   ]
  },
  {
   "cell_type": "code",
   "execution_count": 27,
   "metadata": {
    "execution": {
     "iopub.execute_input": "2024-10-08T11:43:10.653225Z",
     "iopub.status.busy": "2024-10-08T11:43:10.652810Z",
     "iopub.status.idle": "2024-10-08T11:43:11.104282Z",
     "shell.execute_reply": "2024-10-08T11:43:11.103234Z",
     "shell.execute_reply.started": "2024-10-08T11:43:10.653181Z"
    },
    "trusted": true
   },
   "outputs": [],
   "source": [
    "usersdf['DOB'] = pd.to_datetime(usersdf['DOB'])\n",
    "usersdf['DOB'] = usersdf['DOB'].apply(lambda x: datetime.now().year - x.year)\n",
    "usersdf.rename(columns={'DOB':'Age'}, inplace=True)"
   ]
  },
  {
   "cell_type": "markdown",
   "metadata": {},
   "source": [
    "converting country data to latitudes and longitudes"
   ]
  },
  {
   "cell_type": "code",
   "execution_count": 28,
   "metadata": {
    "execution": {
     "iopub.execute_input": "2024-10-08T11:43:11.106298Z",
     "iopub.status.busy": "2024-10-08T11:43:11.105796Z",
     "iopub.status.idle": "2024-10-08T11:44:17.269436Z",
     "shell.execute_reply": "2024-10-08T11:44:17.268234Z",
     "shell.execute_reply.started": "2024-10-08T11:43:11.106239Z"
    },
    "trusted": true
   },
   "outputs": [],
   "source": [
    "user_lat = []\n",
    "user_long = []\n",
    "geo_cache={}\n",
    "for index, row in usersdf.iterrows():\n",
    "    lat, long = get_lat_long(row['Country'],geo_cache)\n",
    "    user_lat.append(lat)\n",
    "    user_long.append(long)\n",
    "\n",
    "usersdf['latitude'] = user_lat\n",
    "usersdf['longitude'] = user_long"
   ]
  },
  {
   "cell_type": "code",
   "execution_count": 29,
   "metadata": {
    "execution": {
     "iopub.execute_input": "2024-10-08T11:44:17.271486Z",
     "iopub.status.busy": "2024-10-08T11:44:17.270993Z",
     "iopub.status.idle": "2024-10-08T11:44:17.283767Z",
     "shell.execute_reply": "2024-10-08T11:44:17.282464Z",
     "shell.execute_reply.started": "2024-10-08T11:44:17.271432Z"
    },
    "trusted": true
   },
   "outputs": [],
   "source": [
    "usersdf.drop(columns=[\"UserID\",\"City\",\"Country\",\"Gender\"],inplace=True)"
   ]
  },
  {
   "cell_type": "code",
   "execution_count": 30,
   "metadata": {
    "execution": {
     "iopub.execute_input": "2024-10-08T11:44:17.291835Z",
     "iopub.status.busy": "2024-10-08T11:44:17.291416Z",
     "iopub.status.idle": "2024-10-08T11:44:17.305402Z",
     "shell.execute_reply": "2024-10-08T11:44:17.303929Z",
     "shell.execute_reply.started": "2024-10-08T11:44:17.291797Z"
    },
    "trusted": true
   },
   "outputs": [
    {
     "data": {
      "text/html": [
       "<div>\n",
       "<style scoped>\n",
       "    .dataframe tbody tr th:only-of-type {\n",
       "        vertical-align: middle;\n",
       "    }\n",
       "\n",
       "    .dataframe tbody tr th {\n",
       "        vertical-align: top;\n",
       "    }\n",
       "\n",
       "    .dataframe thead th {\n",
       "        text-align: right;\n",
       "    }\n",
       "</style>\n",
       "<table border=\"1\" class=\"dataframe\">\n",
       "  <thead>\n",
       "    <tr style=\"text-align: right;\">\n",
       "      <th></th>\n",
       "      <th>Name</th>\n",
       "      <th>Age</th>\n",
       "      <th>latitude</th>\n",
       "      <th>longitude</th>\n",
       "    </tr>\n",
       "  </thead>\n",
       "  <tbody>\n",
       "    <tr>\n",
       "      <th>0</th>\n",
       "      <td>Jesse Lawhorn</td>\n",
       "      <td>67</td>\n",
       "      <td>-2</td>\n",
       "      <td>117</td>\n",
       "    </tr>\n",
       "    <tr>\n",
       "      <th>1</th>\n",
       "      <td>Stacy Payne</td>\n",
       "      <td>21</td>\n",
       "      <td>26</td>\n",
       "      <td>18</td>\n",
       "    </tr>\n",
       "    <tr>\n",
       "      <th>2</th>\n",
       "      <td>Katrina Nicewander</td>\n",
       "      <td>25</td>\n",
       "      <td>31</td>\n",
       "      <td>36</td>\n",
       "    </tr>\n",
       "    <tr>\n",
       "      <th>3</th>\n",
       "      <td>Eric Yarbrough</td>\n",
       "      <td>40</td>\n",
       "      <td>42</td>\n",
       "      <td>12</td>\n",
       "    </tr>\n",
       "    <tr>\n",
       "      <th>4</th>\n",
       "      <td>Daniel Adkins</td>\n",
       "      <td>70</td>\n",
       "      <td>8</td>\n",
       "      <td>-66</td>\n",
       "    </tr>\n",
       "    <tr>\n",
       "      <th>5</th>\n",
       "      <td>Diane Jara</td>\n",
       "      <td>58</td>\n",
       "      <td>39</td>\n",
       "      <td>-100</td>\n",
       "    </tr>\n",
       "    <tr>\n",
       "      <th>6</th>\n",
       "      <td>Sheryl Morgan</td>\n",
       "      <td>56</td>\n",
       "      <td>54</td>\n",
       "      <td>-3</td>\n",
       "    </tr>\n",
       "    <tr>\n",
       "      <th>7</th>\n",
       "      <td>William Harper</td>\n",
       "      <td>60</td>\n",
       "      <td>14</td>\n",
       "      <td>29</td>\n",
       "    </tr>\n",
       "    <tr>\n",
       "      <th>8</th>\n",
       "      <td>Virginia Varron</td>\n",
       "      <td>41</td>\n",
       "      <td>25</td>\n",
       "      <td>42</td>\n",
       "    </tr>\n",
       "    <tr>\n",
       "      <th>9</th>\n",
       "      <td>Charles Figueroa</td>\n",
       "      <td>22</td>\n",
       "      <td>22</td>\n",
       "      <td>78</td>\n",
       "    </tr>\n",
       "  </tbody>\n",
       "</table>\n",
       "</div>"
      ],
      "text/plain": [
       "                 Name  Age  latitude  longitude\n",
       "0       Jesse Lawhorn   67        -2        117\n",
       "1         Stacy Payne   21        26         18\n",
       "2  Katrina Nicewander   25        31         36\n",
       "3      Eric Yarbrough   40        42         12\n",
       "4       Daniel Adkins   70         8        -66\n",
       "5          Diane Jara   58        39       -100\n",
       "6       Sheryl Morgan   56        54         -3\n",
       "7      William Harper   60        14         29\n",
       "8     Virginia Varron   41        25         42\n",
       "9    Charles Figueroa   22        22         78"
      ]
     },
     "execution_count": 30,
     "metadata": {},
     "output_type": "execute_result"
    }
   ],
   "source": [
    "usersdf.head(10)"
   ]
  },
  {
   "cell_type": "markdown",
   "metadata": {},
   "source": [
    "## Generating Weights"
   ]
  },
  {
   "cell_type": "markdown",
   "metadata": {},
   "source": [
    "computing distances between locations of users and influencers navigating on a map using euclidean instead of haversine or geodesics to reduce computational overhead"
   ]
  },
  {
   "cell_type": "code",
   "execution_count": 31,
   "metadata": {
    "execution": {
     "iopub.execute_input": "2024-10-08T11:50:42.581085Z",
     "iopub.status.busy": "2024-10-08T11:50:42.580646Z",
     "iopub.status.idle": "2024-10-08T11:50:42.588809Z",
     "shell.execute_reply": "2024-10-08T11:50:42.587461Z",
     "shell.execute_reply.started": "2024-10-08T11:50:42.581043Z"
    },
    "trusted": true
   },
   "outputs": [],
   "source": [
    "def euclidean_dist_matrix(user_locs, influencer_locs):\n",
    "    diff = user_locs[:, np.newaxis, :] - influencer_locs[np.newaxis, :, :]\n",
    "    dist_matrix = np.sqrt(np.sum(diff ** 2, axis=-1))\n",
    "    with np.errstate(divide='ignore', invalid='ignore'):\n",
    "        preference_matrix = np.where(dist_matrix != 0, 1.0 / dist_matrix, 0.0)\n",
    "    return preference_matrix"
   ]
  },
  {
   "cell_type": "markdown",
   "metadata": {},
   "source": [
    "Normalize the weights"
   ]
  },
  {
   "cell_type": "code",
   "execution_count": 32,
   "metadata": {
    "execution": {
     "iopub.execute_input": "2024-10-08T11:50:24.855213Z",
     "iopub.status.busy": "2024-10-08T11:50:24.854753Z",
     "iopub.status.idle": "2024-10-08T11:50:24.865784Z",
     "shell.execute_reply": "2024-10-08T11:50:24.864609Z",
     "shell.execute_reply.started": "2024-10-08T11:50:24.855170Z"
    },
    "trusted": true
   },
   "outputs": [],
   "source": [
    "user_locs = np.array(usersdf[['latitude', 'longitude']].to_numpy())\n",
    "influencer_locs = np.array(influencer_df[['latitude', 'longitude']].to_numpy())"
   ]
  },
  {
   "cell_type": "code",
   "execution_count": 33,
   "metadata": {
    "execution": {
     "iopub.execute_input": "2024-10-08T11:50:47.250776Z",
     "iopub.status.busy": "2024-10-08T11:50:47.250319Z",
     "iopub.status.idle": "2024-10-08T11:50:50.273630Z",
     "shell.execute_reply": "2024-10-08T11:50:50.272095Z",
     "shell.execute_reply.started": "2024-10-08T11:50:47.250731Z"
    },
    "trusted": true
   },
   "outputs": [],
   "source": [
    "dist_matrix = euclidean_dist_matrix(user_locs, influencer_locs)"
   ]
  },
  {
   "cell_type": "code",
   "execution_count": 34,
   "metadata": {
    "execution": {
     "iopub.execute_input": "2024-10-08T12:03:27.766301Z",
     "iopub.status.busy": "2024-10-08T12:03:27.765228Z",
     "iopub.status.idle": "2024-10-08T12:03:27.774814Z",
     "shell.execute_reply": "2024-10-08T12:03:27.773569Z",
     "shell.execute_reply.started": "2024-10-08T12:03:27.766251Z"
    },
    "trusted": true
   },
   "outputs": [
    {
     "data": {
      "text/plain": [
       "array([[0.02183739, 0.00452818, 0.00452818, ..., 0.01235227, 0.02544933,\n",
       "        0.        ],\n",
       "       [0.01662975, 0.00842361, 0.00842361, ..., 0.03713907, 0.00913594,\n",
       "        0.00971974],\n",
       "       [0.02328101, 0.00734025, 0.00734025, ..., 0.12126781, 0.01097246,\n",
       "        0.01143324],\n",
       "       ...,\n",
       "       [0.00632329, 0.01319794, 0.01319794, ..., 0.00759825, 0.00478403,\n",
       "        0.00525697],\n",
       "       [0.00741555, 0.0147282 , 0.0147282 , ..., 0.00942474, 0.00538257,\n",
       "        0.00587585],\n",
       "       [0.01510822, 0.00835366, 0.00835366, ..., 0.03184649, 0.00915929,\n",
       "        0.00893713]])"
      ]
     },
     "execution_count": 34,
     "metadata": {},
     "output_type": "execute_result"
    }
   ],
   "source": [
    "dist_matrix"
   ]
  },
  {
   "cell_type": "markdown",
   "metadata": {},
   "source": [
    "converting engagement data to numpy array"
   ]
  },
  {
   "cell_type": "code",
   "execution_count": 35,
   "metadata": {
    "execution": {
     "iopub.execute_input": "2024-10-08T12:40:06.600588Z",
     "iopub.status.busy": "2024-10-08T12:40:06.600120Z",
     "iopub.status.idle": "2024-10-08T12:40:06.607763Z",
     "shell.execute_reply": "2024-10-08T12:40:06.606472Z",
     "shell.execute_reply.started": "2024-10-08T12:40:06.600538Z"
    },
    "trusted": true
   },
   "outputs": [],
   "source": [
    "engagement_data = influencer_df[num_cols].to_numpy()\n",
    "engagement_scores = np.mean(engagement_data, axis=1)\n",
    "engagement_scores = engagement_scores.reshape(-1, 1)"
   ]
  },
  {
   "cell_type": "markdown",
   "metadata": {},
   "source": [
    "computing similarity between each user with each influencer using Cosine similarity\n",
    "$$\n",
    "\\text{cosine similarity} = \\cos(\\theta) = \\frac{\\mathbf{A} \\cdot \\mathbf{B}}{\\|\\mathbf{A}\\| \\|\\mathbf{B}\\|}\n",
    "$$"
   ]
  },
  {
   "cell_type": "code",
   "execution_count": 36,
   "metadata": {
    "trusted": true
   },
   "outputs": [],
   "source": [
    "cos_sim = cosine_similarity(user_preferences, content_cats)"
   ]
  },
  {
   "cell_type": "code",
   "execution_count": 37,
   "metadata": {
    "execution": {
     "iopub.execute_input": "2024-10-08T12:40:33.665265Z",
     "iopub.status.busy": "2024-10-08T12:40:33.664714Z",
     "iopub.status.idle": "2024-10-08T12:40:34.272843Z",
     "shell.execute_reply": "2024-10-08T12:40:34.271355Z",
     "shell.execute_reply.started": "2024-10-08T12:40:33.665216Z"
    },
    "trusted": true
   },
   "outputs": [],
   "source": [
    "combined_scores = dist_matrix.dot(engagement_scores) + cos_sim"
   ]
  },
  {
   "cell_type": "code",
   "execution_count": 38,
   "metadata": {
    "execution": {
     "iopub.execute_input": "2024-10-08T13:02:45.158937Z",
     "iopub.status.busy": "2024-10-08T13:02:45.158502Z",
     "iopub.status.idle": "2024-10-08T13:02:45.167909Z",
     "shell.execute_reply": "2024-10-08T13:02:45.166811Z",
     "shell.execute_reply.started": "2024-10-08T13:02:45.158892Z"
    },
    "trusted": true
   },
   "outputs": [
    {
     "data": {
      "text/plain": [
       "array([[ 0.22058993,  0.22058993,  0.55392327, ...,  0.22058993,\n",
       "         0.22058993,  0.55392327],\n",
       "       [-1.03020996, -0.45285969, -1.03020996, ..., -0.74153483,\n",
       "        -0.74153483, -0.74153483],\n",
       "       [-1.13704802, -1.13704802, -0.84837288, ..., -1.13704802,\n",
       "        -1.13704802, -1.13704802],\n",
       "       ...,\n",
       "       [-1.01513837, -1.01513837, -1.01513837, ..., -0.60689008,\n",
       "        -1.01513837, -1.01513837],\n",
       "       [ 0.01633842, -0.24186047, -0.24186047, ...,  0.01633842,\n",
       "        -0.24186047, -0.24186047],\n",
       "       [-1.18563174, -0.77738345, -1.18563174, ..., -1.18563174,\n",
       "        -1.18563174, -1.18563174]])"
      ]
     },
     "execution_count": 38,
     "metadata": {},
     "output_type": "execute_result"
    }
   ],
   "source": [
    "combined_scores"
   ]
  },
  {
   "cell_type": "markdown",
   "metadata": {},
   "source": [
    "## Generating Recommendations"
   ]
  },
  {
   "cell_type": "code",
   "execution_count": 39,
   "metadata": {
    "execution": {
     "iopub.execute_input": "2024-10-08T13:02:50.280549Z",
     "iopub.status.busy": "2024-10-08T13:02:50.279598Z",
     "iopub.status.idle": "2024-10-08T13:02:50.342637Z",
     "shell.execute_reply": "2024-10-08T13:02:50.341486Z",
     "shell.execute_reply.started": "2024-10-08T13:02:50.280500Z"
    },
    "trusted": true
   },
   "outputs": [],
   "source": [
    "user_index_map = {name: idx for idx, name in enumerate(usersdf['Name'])} #hash map for faster index lookups\n",
    "user_name = \"Charles Figueroa\" \n",
    "user_idx = user_index_map.get(user_name, None)"
   ]
  },
  {
   "cell_type": "code",
   "execution_count": 40,
   "metadata": {
    "execution": {
     "iopub.execute_input": "2024-10-08T13:09:51.503719Z",
     "iopub.status.busy": "2024-10-08T13:09:51.503252Z",
     "iopub.status.idle": "2024-10-08T13:09:51.514107Z",
     "shell.execute_reply": "2024-10-08T13:09:51.512783Z",
     "shell.execute_reply.started": "2024-10-08T13:09:51.503674Z"
    },
    "trusted": true
   },
   "outputs": [
    {
     "name": "stdout",
     "output_type": "stream",
     "text": [
      "Recommended influencers for Charles Figueroa:\n",
      "1: antony00\n",
      "2: everyone_woo\n",
      "3: pooorblack\n",
      "4: twentyonepilots\n",
      "5: jeonghaniyoo_n\n",
      "6: sunnyleone\n",
      "7: skuukzky\n",
      "8: badbunnypr\n",
      "9: ridwankamil\n",
      "10: l7nnon\n"
     ]
    }
   ],
   "source": [
    "if user_idx is not None:\n",
    "    top_n = 10\n",
    "    influencer_indices = np.argpartition(combined_scores[user_idx], -top_n)[-top_n:]  \n",
    "    influencer_indices = influencer_indices[np.argsort(combined_scores[user_idx][influencer_indices])[::-1]] \n",
    "    top_influencers = influencer_df.iloc[influencer_indices]\n",
    "\n",
    "    recommended_influencers = list(top_influencers['username'])\n",
    "    print(f\"Recommended influencers for {user_name}:\")  \n",
    "    for i, influencer in enumerate(recommended_influencers, start=1):\n",
    "        print(f\"{i}: {influencer}\")  \n",
    "else:\n",
    "    print(f\"User '{user_name}' not found in the dataset.\")"
   ]
  }
 ],
 "metadata": {
  "kaggle": {
   "accelerator": "none",
   "dataSources": [
    {
     "datasetId": 5815707,
     "sourceId": 9545892,
     "sourceType": "datasetVersion"
    }
   ],
   "dockerImageVersionId": 30786,
   "isGpuEnabled": false,
   "isInternetEnabled": true,
   "language": "python",
   "sourceType": "notebook"
  },
  "kernelspec": {
   "display_name": "venv",
   "language": "python",
   "name": "python3"
  },
  "language_info": {
   "codemirror_mode": {
    "name": "ipython",
    "version": 3
   },
   "file_extension": ".py",
   "mimetype": "text/x-python",
   "name": "python",
   "nbconvert_exporter": "python",
   "pygments_lexer": "ipython3",
   "version": "3.12.6"
  }
 },
 "nbformat": 4,
 "nbformat_minor": 4
}
